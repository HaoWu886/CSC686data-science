{
 "cells": [
  {
   "cell_type": "code",
   "execution_count": 32,
   "id": "73e4afe4",
   "metadata": {},
   "outputs": [
    {
     "data": {
      "text/html": [
       "<div>\n",
       "<style scoped>\n",
       "    .dataframe tbody tr th:only-of-type {\n",
       "        vertical-align: middle;\n",
       "    }\n",
       "\n",
       "    .dataframe tbody tr th {\n",
       "        vertical-align: top;\n",
       "    }\n",
       "\n",
       "    .dataframe thead th {\n",
       "        text-align: right;\n",
       "    }\n",
       "</style>\n",
       "<table border=\"1\" class=\"dataframe\">\n",
       "  <thead>\n",
       "    <tr style=\"text-align: right;\">\n",
       "      <th></th>\n",
       "      <th>Type</th>\n",
       "      <th>Alcohol_flag</th>\n",
       "      <th>Sugar_flag</th>\n",
       "    </tr>\n",
       "  </thead>\n",
       "  <tbody>\n",
       "    <tr>\n",
       "      <th>0</th>\n",
       "      <td>Red</td>\n",
       "      <td>High</td>\n",
       "      <td>High</td>\n",
       "    </tr>\n",
       "    <tr>\n",
       "      <th>1</th>\n",
       "      <td>Red</td>\n",
       "      <td>High</td>\n",
       "      <td>Low</td>\n",
       "    </tr>\n",
       "    <tr>\n",
       "      <th>2</th>\n",
       "      <td>Red</td>\n",
       "      <td>Low</td>\n",
       "      <td>High</td>\n",
       "    </tr>\n",
       "    <tr>\n",
       "      <th>3</th>\n",
       "      <td>Red</td>\n",
       "      <td>High</td>\n",
       "      <td>Low</td>\n",
       "    </tr>\n",
       "    <tr>\n",
       "      <th>4</th>\n",
       "      <td>Red</td>\n",
       "      <td>Low</td>\n",
       "      <td>Low</td>\n",
       "    </tr>\n",
       "    <tr>\n",
       "      <th>...</th>\n",
       "      <td>...</td>\n",
       "      <td>...</td>\n",
       "      <td>...</td>\n",
       "    </tr>\n",
       "    <tr>\n",
       "      <th>3340</th>\n",
       "      <td>White</td>\n",
       "      <td>High</td>\n",
       "      <td>High</td>\n",
       "    </tr>\n",
       "    <tr>\n",
       "      <th>3341</th>\n",
       "      <td>White</td>\n",
       "      <td>High</td>\n",
       "      <td>Low</td>\n",
       "    </tr>\n",
       "    <tr>\n",
       "      <th>3342</th>\n",
       "      <td>White</td>\n",
       "      <td>High</td>\n",
       "      <td>Low</td>\n",
       "    </tr>\n",
       "    <tr>\n",
       "      <th>3343</th>\n",
       "      <td>White</td>\n",
       "      <td>High</td>\n",
       "      <td>Low</td>\n",
       "    </tr>\n",
       "    <tr>\n",
       "      <th>3344</th>\n",
       "      <td>White</td>\n",
       "      <td>High</td>\n",
       "      <td>Low</td>\n",
       "    </tr>\n",
       "  </tbody>\n",
       "</table>\n",
       "<p>3345 rows × 3 columns</p>\n",
       "</div>"
      ],
      "text/plain": [
       "       Type Alcohol_flag Sugar_flag\n",
       "0       Red         High       High\n",
       "1       Red         High        Low\n",
       "2       Red          Low       High\n",
       "3       Red         High        Low\n",
       "4       Red          Low        Low\n",
       "...     ...          ...        ...\n",
       "3340  White         High       High\n",
       "3341  White         High        Low\n",
       "3342  White         High        Low\n",
       "3343  White         High        Low\n",
       "3344  White         High        Low\n",
       "\n",
       "[3345 rows x 3 columns]"
      ]
     },
     "execution_count": 32,
     "metadata": {},
     "output_type": "execute_result"
    }
   ],
   "source": [
    "# import pandas and numpy, then use pandas read the csv file. \n",
    "    \n",
    "import pandas as pd\n",
    "import numpy as np\n",
    "\n",
    "DF1 = pd.read_csv(\"https://raw.githubusercontent.com/bforoura/IDS/main/HW5/wine_flag_all.csv\")\n",
    "\n",
    "DF1"
   ]
  },
  {
   "cell_type": "code",
   "execution_count": 33,
   "id": "2bc73f33",
   "metadata": {},
   "outputs": [
    {
     "data": {
      "text/plain": [
       "Type            0\n",
       "Alcohol_flag    0\n",
       "Sugar_flag      0\n",
       "dtype: int64"
      ]
     },
     "execution_count": 33,
     "metadata": {},
     "output_type": "execute_result"
    }
   ],
   "source": [
    "# check the missing value, and use the sum() to calculate how many missing value are there.\n",
    "# since the there is no missing value, then we do not change anything \n",
    "\n",
    "DF1.isnull().sum()"
   ]
  },
  {
   "cell_type": "code",
   "execution_count": 34,
   "id": "f54c6f86",
   "metadata": {},
   "outputs": [
    {
     "name": "stdout",
     "output_type": "stream",
     "text": [
      "-=========================\n",
      "       Type Alcohol_flag Sugar_flag\n",
      "0       Red         High       High\n",
      "1       Red         High        Low\n",
      "2       Red          Low       High\n",
      "3       Red         High        Low\n",
      "4       Red          Low        Low\n",
      "...     ...          ...        ...\n",
      "3340  White         High       High\n",
      "3341  White         High        Low\n",
      "3342  White         High        Low\n",
      "3343  White         High        Low\n",
      "3344  White         High        Low\n",
      "\n",
      "[3345 rows x 3 columns]\n",
      "-=========================\n"
     ]
    },
    {
     "data": {
      "text/html": [
       "<div>\n",
       "<style scoped>\n",
       "    .dataframe tbody tr th:only-of-type {\n",
       "        vertical-align: middle;\n",
       "    }\n",
       "\n",
       "    .dataframe tbody tr th {\n",
       "        vertical-align: top;\n",
       "    }\n",
       "\n",
       "    .dataframe thead th {\n",
       "        text-align: right;\n",
       "    }\n",
       "</style>\n",
       "<table border=\"1\" class=\"dataframe\">\n",
       "  <thead>\n",
       "    <tr style=\"text-align: right;\">\n",
       "      <th></th>\n",
       "      <th>Type</th>\n",
       "      <th>Alcohol_flag</th>\n",
       "      <th>Sugar_flag</th>\n",
       "    </tr>\n",
       "  </thead>\n",
       "  <tbody>\n",
       "    <tr>\n",
       "      <th>0</th>\n",
       "      <td>0</td>\n",
       "      <td>0</td>\n",
       "      <td>0</td>\n",
       "    </tr>\n",
       "    <tr>\n",
       "      <th>1</th>\n",
       "      <td>0</td>\n",
       "      <td>0</td>\n",
       "      <td>1</td>\n",
       "    </tr>\n",
       "    <tr>\n",
       "      <th>2</th>\n",
       "      <td>0</td>\n",
       "      <td>1</td>\n",
       "      <td>0</td>\n",
       "    </tr>\n",
       "    <tr>\n",
       "      <th>3</th>\n",
       "      <td>0</td>\n",
       "      <td>0</td>\n",
       "      <td>1</td>\n",
       "    </tr>\n",
       "    <tr>\n",
       "      <th>4</th>\n",
       "      <td>0</td>\n",
       "      <td>1</td>\n",
       "      <td>1</td>\n",
       "    </tr>\n",
       "    <tr>\n",
       "      <th>...</th>\n",
       "      <td>...</td>\n",
       "      <td>...</td>\n",
       "      <td>...</td>\n",
       "    </tr>\n",
       "    <tr>\n",
       "      <th>3340</th>\n",
       "      <td>1</td>\n",
       "      <td>0</td>\n",
       "      <td>0</td>\n",
       "    </tr>\n",
       "    <tr>\n",
       "      <th>3341</th>\n",
       "      <td>1</td>\n",
       "      <td>0</td>\n",
       "      <td>1</td>\n",
       "    </tr>\n",
       "    <tr>\n",
       "      <th>3342</th>\n",
       "      <td>1</td>\n",
       "      <td>0</td>\n",
       "      <td>1</td>\n",
       "    </tr>\n",
       "    <tr>\n",
       "      <th>3343</th>\n",
       "      <td>1</td>\n",
       "      <td>0</td>\n",
       "      <td>1</td>\n",
       "    </tr>\n",
       "    <tr>\n",
       "      <th>3344</th>\n",
       "      <td>1</td>\n",
       "      <td>0</td>\n",
       "      <td>1</td>\n",
       "    </tr>\n",
       "  </tbody>\n",
       "</table>\n",
       "<p>3345 rows × 3 columns</p>\n",
       "</div>"
      ],
      "text/plain": [
       "      Type  Alcohol_flag  Sugar_flag\n",
       "0        0             0           0\n",
       "1        0             0           1\n",
       "2        0             1           0\n",
       "3        0             0           1\n",
       "4        0             1           1\n",
       "...    ...           ...         ...\n",
       "3340     1             0           0\n",
       "3341     1             0           1\n",
       "3342     1             0           1\n",
       "3343     1             0           1\n",
       "3344     1             0           1\n",
       "\n",
       "[3345 rows x 3 columns]"
      ]
     },
     "execution_count": 34,
     "metadata": {},
     "output_type": "execute_result"
    }
   ],
   "source": [
    "# encoding the attributes. \n",
    "\n",
    "\n",
    "from sklearn import preprocessing\n",
    "le = preprocessing.LabelEncoder()\n",
    "\n",
    "# save the encoded dataframe \n",
    "encodedDF1 = pd.DataFrame()\n",
    "\n",
    "# Encode categoric or boolean attributes\n",
    "for i in range(0, DF1.shape[1]):\n",
    "    if DF1.dtypes[i]=='object' or DF1.dtypes[i]=='bool':\n",
    "        encodedDF1[DF1.columns[i]] = le.fit_transform(DF1[DF1.columns[i]])\n",
    "\n",
    "\n",
    "# print them out, and use ==== to separate\n",
    "print(\"-=========================\")\n",
    "print(DF1)\n",
    "print(\"-=========================\")\n",
    "encodedDF1\n",
    "\n",
    "\n",
    "# in this case, 0 means red, 1 means white\n",
    "# 0 means high, whereas 1 means low"
   ]
  },
  {
   "cell_type": "code",
   "execution_count": 35,
   "id": "ae0136b5",
   "metadata": {},
   "outputs": [
    {
     "data": {
      "text/html": [
       "<div>\n",
       "<style scoped>\n",
       "    .dataframe tbody tr th:only-of-type {\n",
       "        vertical-align: middle;\n",
       "    }\n",
       "\n",
       "    .dataframe tbody tr th {\n",
       "        vertical-align: top;\n",
       "    }\n",
       "\n",
       "    .dataframe thead th {\n",
       "        text-align: right;\n",
       "    }\n",
       "</style>\n",
       "<table border=\"1\" class=\"dataframe\">\n",
       "  <thead>\n",
       "    <tr style=\"text-align: right;\">\n",
       "      <th>Alcohol_flag</th>\n",
       "      <th>High</th>\n",
       "      <th>Low</th>\n",
       "      <th>All</th>\n",
       "    </tr>\n",
       "    <tr>\n",
       "      <th>Type</th>\n",
       "      <th></th>\n",
       "      <th></th>\n",
       "      <th></th>\n",
       "    </tr>\n",
       "  </thead>\n",
       "  <tbody>\n",
       "    <tr>\n",
       "      <th>Red</th>\n",
       "      <td>485</td>\n",
       "      <td>600</td>\n",
       "      <td>1085</td>\n",
       "    </tr>\n",
       "    <tr>\n",
       "      <th>White</th>\n",
       "      <td>1176</td>\n",
       "      <td>1084</td>\n",
       "      <td>2260</td>\n",
       "    </tr>\n",
       "    <tr>\n",
       "      <th>All</th>\n",
       "      <td>1661</td>\n",
       "      <td>1684</td>\n",
       "      <td>3345</td>\n",
       "    </tr>\n",
       "  </tbody>\n",
       "</table>\n",
       "</div>"
      ],
      "text/plain": [
       "Alcohol_flag  High   Low   All\n",
       "Type                          \n",
       "Red            485   600  1085\n",
       "White         1176  1084  2260\n",
       "All           1661  1684  3345"
      ]
     },
     "execution_count": 35,
     "metadata": {},
     "output_type": "execute_result"
    }
   ],
   "source": [
    "# create contengency table for type and alcohol\n",
    "\n",
    "table1 = pd.crosstab(DF1.Type, DF1.Alcohol_flag, margins = True)\n",
    "\n",
    "\n",
    "# print out the table \n",
    "table1"
   ]
  },
  {
   "cell_type": "code",
   "execution_count": 36,
   "id": "edf378dd",
   "metadata": {},
   "outputs": [
    {
     "data": {
      "text/html": [
       "<div>\n",
       "<style scoped>\n",
       "    .dataframe tbody tr th:only-of-type {\n",
       "        vertical-align: middle;\n",
       "    }\n",
       "\n",
       "    .dataframe tbody tr th {\n",
       "        vertical-align: top;\n",
       "    }\n",
       "\n",
       "    .dataframe thead th {\n",
       "        text-align: right;\n",
       "    }\n",
       "</style>\n",
       "<table border=\"1\" class=\"dataframe\">\n",
       "  <thead>\n",
       "    <tr style=\"text-align: right;\">\n",
       "      <th>Sugar_flag</th>\n",
       "      <th>High</th>\n",
       "      <th>Low</th>\n",
       "      <th>All</th>\n",
       "    </tr>\n",
       "    <tr>\n",
       "      <th>Type</th>\n",
       "      <th></th>\n",
       "      <th></th>\n",
       "      <th></th>\n",
       "    </tr>\n",
       "  </thead>\n",
       "  <tbody>\n",
       "    <tr>\n",
       "      <th>Red</th>\n",
       "      <td>237</td>\n",
       "      <td>848</td>\n",
       "      <td>1085</td>\n",
       "    </tr>\n",
       "    <tr>\n",
       "      <th>White</th>\n",
       "      <td>1382</td>\n",
       "      <td>878</td>\n",
       "      <td>2260</td>\n",
       "    </tr>\n",
       "    <tr>\n",
       "      <th>All</th>\n",
       "      <td>1619</td>\n",
       "      <td>1726</td>\n",
       "      <td>3345</td>\n",
       "    </tr>\n",
       "  </tbody>\n",
       "</table>\n",
       "</div>"
      ],
      "text/plain": [
       "Sugar_flag  High   Low   All\n",
       "Type                        \n",
       "Red          237   848  1085\n",
       "White       1382   878  2260\n",
       "All         1619  1726  3345"
      ]
     },
     "execution_count": 36,
     "metadata": {},
     "output_type": "execute_result"
    }
   ],
   "source": [
    "# create contengency table for type and sugar\n",
    "\n",
    "table2 = pd.crosstab(DF1.Type, DF1.Sugar_flag, margins = True)\n",
    "\n",
    "\n",
    "# print out the table \n",
    "table2"
   ]
  },
  {
   "cell_type": "code",
   "execution_count": 37,
   "id": "d40f7793",
   "metadata": {},
   "outputs": [
    {
     "data": {
      "image/png": "[encoded data removed]",
      "text/plain": [
       "<Figure size 432x288 with 1 Axes>"
      ]
     },
     "metadata": {
      "needs_background": "light"
     },
     "output_type": "display_data"
    }
   ],
   "source": [
    "# Creating barplot for tyoe and acolhol\n",
    "\n",
    "# x label rotation\n",
    "barplot = table1.plot.bar(rot=0)"
   ]
  },
  {
   "cell_type": "code",
   "execution_count": 38,
   "id": "13602325",
   "metadata": {},
   "outputs": [
    {
     "data": {
      "image/png": "[encoded data removed]",
      "text/plain": [
       "<Figure size 432x288 with 1 Axes>"
      ]
     },
     "metadata": {
      "needs_background": "light"
     },
     "output_type": "display_data"
    }
   ],
   "source": [
    "# Creating barplot for tyoe and sugar\n",
    "\n",
    "# x label rotation\n",
    "barplot = table2.plot.bar(rot=0)"
   ]
  },
  {
   "cell_type": "code",
   "execution_count": 42,
   "id": "f93ca835",
   "metadata": {},
   "outputs": [
    {
     "data": {
      "text/plain": [
       "0.33505667130642275"
      ]
     },
     "execution_count": 42,
     "metadata": {},
     "output_type": "execute_result"
    }
   ],
   "source": [
    "# the probability of red \n",
    "\n",
    "pred = (table1.iloc[0,1] + table1.iloc[0,2]) / (table1.iloc[2,1] + table1.iloc[2,2])\n",
    "                                                   \n",
    "pred\n",
    "              "
   ]
  },
  {
   "cell_type": "code",
   "execution_count": 43,
   "id": "570f5ba9",
   "metadata": {},
   "outputs": [
    {
     "data": {
      "text/plain": [
       "0.6649433286935773"
      ]
     },
     "execution_count": 43,
     "metadata": {},
     "output_type": "execute_result"
    }
   ],
   "source": [
    "# the probability of white\n",
    "\n",
    "pwhite = (table1.iloc[1,1] + table1.iloc[1,2]) / (table1.iloc[2,1] + table1.iloc[2,2])\n",
    "                                                   \n",
    "pwhite"
   ]
  },
  {
   "cell_type": "code",
   "execution_count": 44,
   "id": "1f74d93b",
   "metadata": {},
   "outputs": [
    {
     "data": {
      "text/plain": [
       "0.33485782461722013"
      ]
     },
     "execution_count": 44,
     "metadata": {},
     "output_type": "execute_result"
    }
   ],
   "source": [
    "# the probability of alcohol high\n",
    "\n",
    "alcoholHigh = (table1.iloc[2,1])/(table1.iloc[2,1] + table1.iloc[2,2])\n",
    "\n",
    "alcoholHigh"
   ]
  },
  {
   "cell_type": "code",
   "execution_count": 45,
   "id": "51d9958b",
   "metadata": {},
   "outputs": [
    {
     "data": {
      "text/plain": [
       "0.6651421753827799"
      ]
     },
     "execution_count": 45,
     "metadata": {},
     "output_type": "execute_result"
    }
   ],
   "source": [
    "# the probability of alcohol low\n",
    "\n",
    "alcoholLow = (table1.iloc[2,2])/(table1.iloc[2,1] + table1.iloc[2,2])\n",
    "\n",
    "alcoholLow"
   ]
  },
  {
   "cell_type": "code",
   "execution_count": 46,
   "id": "5587b54d",
   "metadata": {},
   "outputs": [
    {
     "data": {
      "text/plain": [
       "0.3403667915598501"
      ]
     },
     "execution_count": 46,
     "metadata": {},
     "output_type": "execute_result"
    }
   ],
   "source": [
    "# the probability of sugar high\n",
    "\n",
    "sugarHigh = (table2.iloc[2,1])/(table2.iloc[2,1] + table2.iloc[2,2])\n",
    "\n",
    "sugarHigh"
   ]
  },
  {
   "cell_type": "code",
   "execution_count": 47,
   "id": "cb3e1905",
   "metadata": {},
   "outputs": [
    {
     "data": {
      "text/plain": [
       "0.6596332084401498"
      ]
     },
     "execution_count": 47,
     "metadata": {},
     "output_type": "execute_result"
    }
   ],
   "source": [
    "# the probability of sugar low\n",
    "\n",
    "sugarLow = (table2.iloc[2,2])/(table2.iloc[2,1] + table2.iloc[2,2])\n",
    "\n",
    "sugarLow"
   ]
  },
  {
   "cell_type": "code",
   "execution_count": 50,
   "id": "227edac6",
   "metadata": {},
   "outputs": [
    {
     "data": {
      "text/plain": [
       "0.11219634807715569"
      ]
     },
     "execution_count": 50,
     "metadata": {},
     "output_type": "execute_result"
    }
   ],
   "source": [
    "# the probability of alcohol high given type red\n",
    "conHighGivenRed=(table1.iloc[0,1]+table1.iloc[0,2])/(table1.iloc[2,1]+table1.iloc[2,2]) * ((table1.iloc[2,1])/(table1.iloc[2,1]+table1.iloc[2,2]))\n",
    "\n",
    "conHighGivenRed"
   ]
  },
  {
   "cell_type": "code",
   "execution_count": 51,
   "id": "8d9000c3",
   "metadata": {},
   "outputs": [
    {
     "data": {
      "text/plain": [
       "0.22286032322926708"
      ]
     },
     "execution_count": 51,
     "metadata": {},
     "output_type": "execute_result"
    }
   ],
   "source": [
    "# calculate  probabilities Alcohol low Type = Red\n",
    "\n",
    "conLowGivenRed=(table1.iloc[0,1]+table1.iloc[0,2])/(table1.iloc[2,1]+table1.iloc[2,2])*((table1.iloc[2,2])/(table1.iloc[2,1]+table1.iloc[2,2]))\n",
    "\n",
    "conLowGivenRed"
   ]
  },
  {
   "cell_type": "code",
   "execution_count": 52,
   "id": "71101d92",
   "metadata": {},
   "outputs": [
    {
     "data": {
      "text/plain": [
       "0.12974344470226587"
      ]
     },
     "execution_count": 52,
     "metadata": {},
     "output_type": "execute_result"
    }
   ],
   "source": [
    "# calculate  probabilities sugar high given Type Red\n",
    "\n",
    "conSugarHighGiveRed= (table2.iloc[0,1]+table2.iloc[0,2])/(table2.iloc[2,1]+table2.iloc[2,2]) *((table2.iloc[2,1])/(table2.iloc[2,1]+table2.iloc[2,2]))\n",
    "\n",
    "conSugarHighGiveRed"
   ]
  },
  {
   "cell_type": "code",
   "execution_count": 53,
   "id": "94caf3d2",
   "metadata": {},
   "outputs": [
    {
     "data": {
      "text/plain": [
       "0.251443697873163"
      ]
     },
     "execution_count": 53,
     "metadata": {},
     "output_type": "execute_result"
    }
   ],
   "source": [
    "# calculate l probabilities sugar low given Type Red\n",
    "\n",
    "conSugarLowGivenRed= (table2.iloc[0,1]+table2.iloc[0,2])/(table2.iloc[2,1]+table2.iloc[2,2]) *((table2.iloc[2,2])/(table2.iloc[2,1]+table2.iloc[2,2]))\n",
    "\n",
    "conSugarLowGivenRed"
   ]
  },
  {
   "cell_type": "code",
   "execution_count": 55,
   "id": "aa186130",
   "metadata": {},
   "outputs": [
    {
     "name": "stdout",
     "output_type": "stream",
     "text": [
      "      Type  Alcohol_flag\n",
      "1783     1             1\n",
      "110      0             1\n",
      "2936     1             0\n",
      "2326     1             1\n",
      "612      1             1\n",
      "...    ...           ...\n",
      "3074     1             0\n",
      "2259     1             1\n",
      "1524     0             0\n",
      "1629     1             1\n",
      "512      1             1\n",
      "\n",
      "[2676 rows x 2 columns]\n",
      "      Type  Alcohol_flag\n",
      "1779     1             1\n",
      "3176     1             0\n",
      "2544     1             0\n",
      "1470     0             0\n",
      "810      1             0\n",
      "...    ...           ...\n",
      "1979     1             1\n",
      "2923     1             0\n",
      "1518     0             0\n",
      "998      1             1\n",
      "1342     0             0\n",
      "\n",
      "[669 rows x 2 columns]\n"
     ]
    }
   ],
   "source": [
    "from sklearn.naive_bayes import GaussianNB\n",
    "from sklearn.model_selection import train_test_split\n",
    "\n",
    "#Create a Gaussian Classifier\n",
    "NBmodel = GaussianNB()\n",
    "\n",
    "# Prepare input and output \n",
    "X = encodedDF1.iloc[:,0:2]\n",
    "y = encodedDF1.iloc[:,2]\n",
    "\n",
    "# use 'stratify' to have the same proportion of 0 and 1 classes in a dataset to train\n",
    "X_train, X_test, y_train, y_test = \\\n",
    "    train_test_split(X, y, random_state=42, shuffle=True, test_size=0.2, stratify=y)\n",
    "\n",
    "# show the sets\n",
    "print(X_train)\n",
    "print(X_test)"
   ]
  },
  {
   "cell_type": "code",
   "execution_count": 56,
   "id": "aa5a2057",
   "metadata": {},
   "outputs": [
    {
     "data": {
      "image/png": "[encoded data removed]",
      "text/plain": [
       "<Figure size 432x288 with 1 Axes>"
      ]
     },
     "metadata": {
      "needs_background": "light"
     },
     "output_type": "display_data"
    }
   ],
   "source": [
    "import matplotlib.pyplot as plt\n",
    "\n",
    "# Train the model \n",
    "NBmodel.fit(X_train, y_train)\n",
    "\n",
    "# Calculate model accuracy on both training and test data\n",
    "labels = [\"Training\", \"Test\"]\n",
    "scores = [NBmodel.score(X_train, y_train), NBmodel.score(X_test, y_test)]\n",
    "\n",
    "\n",
    "# Plot the accuracy claues\n",
    "fig = plt.figure()\n",
    "ax = fig.add_axes([0,0,1,1])\n",
    "ax.set_title('Model Classification Accuary on Training vs. Test Data')\n",
    "ax.bar(labels, scores, color=\"orange\")\n",
    "ax.set_ylim(0, 1)\n",
    "plt.show()"
   ]
  },
  {
   "cell_type": "code",
   "execution_count": 65,
   "id": "43c19955",
   "metadata": {},
   "outputs": [
    {
     "name": "stdout",
     "output_type": "stream",
     "text": [
      "      Type  Alcohol_flag\n",
      "3303     1             0\n",
      "1633     1             1\n",
      "813      1             0\n",
      "2700     1             0\n",
      "2594     1             0\n",
      "...    ...           ...\n",
      "626      1             1\n",
      "2259     1             1\n",
      "3002     1             0\n",
      "1033     0             1\n",
      "512      1             1\n",
      "\n",
      "[2508 rows x 2 columns]\n",
      "      Type  Alcohol_flag\n",
      "1065     0             1\n",
      "1160     0             1\n",
      "816      1             1\n",
      "1468     0             0\n",
      "876      1             0\n",
      "...    ...           ...\n",
      "1899     1             1\n",
      "1886     1             1\n",
      "2003     1             1\n",
      "499      0             0\n",
      "640      1             0\n",
      "\n",
      "[837 rows x 2 columns]\n"
     ]
    }
   ],
   "source": [
    "\n",
    "\n",
    "#Create a Gaussian Classifier\n",
    "NBmodel = GaussianNB()\n",
    "\n",
    "\n",
    "\n",
    "# Prepare input and output \n",
    "X = encodedDF1.iloc[:,0:2]\n",
    "y = encodedDF1.iloc[:,2]\n",
    "\n",
    "# In order to have the same proportion of 0 and 1 classes in a dataset to train, use 'stratify'\n",
    "X_train, X_test, y_train, y_test = \\\n",
    "    train_test_split(X, y, random_state=42, shuffle=True, test_size=0.25, stratify=y)\n",
    "\n",
    "# show the sets\n",
    "print(X_train)\n",
    "print(X_test)"
   ]
  },
  {
   "cell_type": "code",
   "execution_count": 66,
   "id": "91407380",
   "metadata": {},
   "outputs": [
    {
     "data": {
      "image/png": "[encoded data removed]",
      "text/plain": [
       "<Figure size 432x288 with 1 Axes>"
      ]
     },
     "metadata": {
      "needs_background": "light"
     },
     "output_type": "display_data"
    }
   ],
   "source": [
    "\n",
    "\n",
    "# Train the model \n",
    "NBmodel.fit(X_train, y_train)\n",
    "\n",
    "# Calculate model accuracy  training and test data\n",
    "labels = [\"Training\", \"Test\"]\n",
    "scores = [NBmodel.score(X_train, y_train), NBmodel.score(X_test, y_test)]\n",
    "\n",
    "\n",
    "# Plot  accuracy claues\n",
    "fig = plt.figure()\n",
    "ax = fig.add_axes([0,0,1,1])\n",
    "ax.set_title('Model Classification Accuary on Training vs. Test Data')\n",
    "ax.bar(labels, scores, color=\"orange\")\n",
    "ax.set_ylim(0, 1)\n",
    "plt.show()"
   ]
  },
  {
   "cell_type": "code",
   "execution_count": 68,
   "id": "890c7cf0",
   "metadata": {},
   "outputs": [
    {
     "name": "stdout",
     "output_type": "stream",
     "text": [
      "      Type  Alcohol_flag\n",
      "833      1             1\n",
      "1582     0             0\n",
      "469      0             1\n",
      "2489     1             0\n",
      "2099     1             1\n",
      "...    ...           ...\n",
      "2947     1             0\n",
      "2808     1             0\n",
      "2259     1             1\n",
      "227      0             1\n",
      "512      1             1\n",
      "\n",
      "[2341 rows x 2 columns]\n",
      "      Type  Alcohol_flag\n",
      "549      1             1\n",
      "3199     1             0\n",
      "1028     0             1\n",
      "2959     1             0\n",
      "2653     1             0\n",
      "...    ...           ...\n",
      "3029     1             0\n",
      "486      0             1\n",
      "2342     1             1\n",
      "2800     1             0\n",
      "446      0             1\n",
      "\n",
      "[1004 rows x 2 columns]\n"
     ]
    }
   ],
   "source": [
    "\n",
    "\n",
    "#Create a Gaussian Classifier\n",
    "NBmodel = GaussianNB()\n",
    "\n",
    "\n",
    "\n",
    "# Prepare input and output \n",
    "X = encodedDF1.iloc[:,0:2]\n",
    "y = encodedDF1.iloc[:,2]\n",
    "\n",
    "# In order to have the same proportion of 0 and 1 classes in a dataset to train, use 'stratify'\n",
    "X_train, X_test, y_train, y_test = \\\n",
    "    train_test_split(X, y, random_state=42, shuffle=True, test_size=0.3, stratify=y)\n",
    "\n",
    "# show the sets\n",
    "print(X_train)\n",
    "print(X_test)"
   ]
  },
  {
   "cell_type": "code",
   "execution_count": 69,
   "id": "3523c9b5",
   "metadata": {},
   "outputs": [
    {
     "data": {
      "image/png": "[encoded data removed]",
      "text/plain": [
       "<Figure size 432x288 with 1 Axes>"
      ]
     },
     "metadata": {
      "needs_background": "light"
     },
     "output_type": "display_data"
    }
   ],
   "source": [
    "\n",
    "\n",
    "# Train the model \n",
    "NBmodel.fit(X_train, y_train)\n",
    "\n",
    "# Calculate model accuracy on both training and test data\n",
    "labels = [\"Training\", \"Test\"]\n",
    "scores = [NBmodel.score(X_train, y_train), NBmodel.score(X_test, y_test)]\n",
    "\n",
    "\n",
    "# Plot the accuracy claues\n",
    "fig = plt.figure()\n",
    "ax = fig.add_axes([0,0,1,1])\n",
    "ax.set_title('Model Classification Accuary on Training vs. Test Data')\n",
    "ax.bar(labels, scores, color=\"orange\")\n",
    "ax.set_ylim(0, 1)\n",
    "plt.show()"
   ]
  },
  {
   "cell_type": "code",
   "execution_count": 61,
   "id": "c8058b24",
   "metadata": {},
   "outputs": [
    {
     "name": "stdout",
     "output_type": "stream",
     "text": [
      "      Type  Alcohol_flag\n",
      "1927     1             1\n",
      "547      1             0\n",
      "1742     1             1\n",
      "360      0             1\n",
      "424      0             1\n",
      "...    ...           ...\n",
      "2454     1             0\n",
      "2259     1             1\n",
      "2855     1             0\n",
      "325      0             1\n",
      "512      1             1\n",
      "\n",
      "[2007 rows x 2 columns]\n",
      "      Type  Alcohol_flag\n",
      "3340     1             0\n",
      "89       0             1\n",
      "904      1             0\n",
      "2360     1             1\n",
      "301      0             1\n",
      "...    ...           ...\n",
      "2839     1             0\n",
      "1333     0             0\n",
      "594      1             1\n",
      "2814     1             0\n",
      "2321     1             1\n",
      "\n",
      "[1338 rows x 2 columns]\n"
     ]
    }
   ],
   "source": [
    "#Create a Gaussian Classifier\n",
    "NBmodel = GaussianNB()\n",
    "\n",
    "\n",
    "\n",
    "# Prepare input and output for learning\n",
    "X = encodedDF1.iloc[:,0:2]\n",
    "y = encodedDF1.iloc[:,2]\n",
    "\n",
    "# In order to have the same proportion of 0 and 1 classes in a dataset to train, use 'stratify'\n",
    "X_train, X_test, y_train, y_test = \\\n",
    "    train_test_split(X, y, random_state=42, shuffle=True, test_size=0.4, stratify=y)\n",
    "\n",
    "# show the sets\n",
    "print(X_train)\n",
    "print(X_test)"
   ]
  },
  {
   "cell_type": "code",
   "execution_count": 62,
   "id": "8fdb3cc1",
   "metadata": {},
   "outputs": [
    {
     "data": {
      "image/png": "[encoded data removed]",
      "text/plain": [
       "<Figure size 432x288 with 1 Axes>"
      ]
     },
     "metadata": {
      "needs_background": "light"
     },
     "output_type": "display_data"
    }
   ],
   "source": [
    "# Train the model \n",
    "NBmodel.fit(X_train, y_train)\n",
    "\n",
    "# Calculate model accuracy on both training and test data\n",
    "labels = [\"Training\", \"Test\"]\n",
    "scores = [NBmodel.score(X_train, y_train), NBmodel.score(X_test, y_test)]\n",
    "\n",
    "\n",
    "# Plot the accuracy claues\n",
    "fig = plt.figure()\n",
    "ax = fig.add_axes([0,0,1,1])\n",
    "ax.set_title('Model Classification Accuary on Training vs. Test Data')\n",
    "ax.bar(labels, scores, color=\"orange\")\n",
    "ax.set_ylim(0, 1)\n",
    "plt.show()"
   ]
  },
  {
   "cell_type": "code",
   "execution_count": 63,
   "id": "f2af8a34",
   "metadata": {},
   "outputs": [
    {
     "name": "stdout",
     "output_type": "stream",
     "text": [
      "      Type  Alcohol_flag\n",
      "25       0             1\n",
      "2489     1             0\n",
      "583      1             0\n",
      "1396     0             0\n",
      "2032     1             1\n",
      "...    ...           ...\n",
      "2499     1             0\n",
      "238      0             0\n",
      "2855     1             0\n",
      "2795     1             0\n",
      "908      1             0\n",
      "\n",
      "[1672 rows x 2 columns]\n",
      "      Type  Alcohol_flag\n",
      "1881     1             1\n",
      "1957     1             1\n",
      "1589     1             1\n",
      "3038     1             0\n",
      "386      0             0\n",
      "...    ...           ...\n",
      "2985     1             0\n",
      "2615     1             0\n",
      "42       0             1\n",
      "2580     1             0\n",
      "2914     1             0\n",
      "\n",
      "[1673 rows x 2 columns]\n"
     ]
    }
   ],
   "source": [
    "#Create a Gaussian Classifier\n",
    "NBmodel = GaussianNB()\n",
    " \n",
    "\n",
    "# Prepare input and output for learning\n",
    "X = encodedDF1.iloc[:,0:2]\n",
    "y = encodedDF1.iloc[:,2]\n",
    "\n",
    "# In order to have the same proportion of 0 and 1 classes in a dataset to train, use 'stratify'\n",
    "X_train, X_test, y_train, y_test = \\\n",
    "    train_test_split(X, y, random_state=42, shuffle=True, test_size=0.5, stratify=y)\n",
    "\n",
    "# show the sets\n",
    "print(X_train)\n",
    "print(X_test)"
   ]
  },
  {
   "cell_type": "code",
   "execution_count": 64,
   "id": "304e08f0",
   "metadata": {},
   "outputs": [
    {
     "data": {
      "image/png": "[encoded data removed]",
      "text/plain": [
       "<Figure size 432x288 with 1 Axes>"
      ]
     },
     "metadata": {
      "needs_background": "light"
     },
     "output_type": "display_data"
    }
   ],
   "source": [
    "# Train the model \n",
    "NBmodel.fit(X_train, y_train)\n",
    "\n",
    "# Calculate model accuracy on both training and test data\n",
    "labels = [\"Training\", \"Test\"]\n",
    "scores = [NBmodel.score(X_train, y_train), NBmodel.score(X_test, y_test)]\n",
    "\n",
    "\n",
    "# Plot the accuracy claues\n",
    "fig = plt.figure()\n",
    "ax = fig.add_axes([0,0,1,1])\n",
    "ax.set_title('Model Classification Accuary on Training vs. Test Data')\n",
    "ax.bar(labels, scores, color=\"orange\")\n",
    "ax.set_ylim(0, 1)\n",
    "plt.show()"
   ]
  },
  {
   "cell_type": "code",
   "execution_count": 70,
   "id": "831bb578",
   "metadata": {},
   "outputs": [],
   "source": [
    "# summary \n",
    "\n",
    "# since the change of the training, the test part will be influenced\n",
    "\n",
    "# however, even though the difference of training size is big,\n",
    "\n",
    "# the result difference will still be small"
   ]
  },
  {
   "cell_type": "code",
   "execution_count": null,
   "id": "79bacf54",
   "metadata": {},
   "outputs": [],
   "source": []
  }
 ],
 "metadata": {
  "kernelspec": {
   "display_name": "Python 3 (ipykernel)",
   "language": "python",
   "name": "python3"
  },
  "language_info": {
   "codemirror_mode": {
    "name": "ipython",
    "version": 3
   },
   "file_extension": ".py",
   "mimetype": "text/x-python",
   "name": "python",
   "nbconvert_exporter": "python",
   "pygments_lexer": "ipython3",
   "version": "3.9.7"
  }
 },
 "nbformat": 4,
 "nbformat_minor": 5
}
