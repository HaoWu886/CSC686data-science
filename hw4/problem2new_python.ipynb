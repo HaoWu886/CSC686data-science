{
 "cells": [
  {
   "cell_type": "code",
   "execution_count": 1,
   "id": "f84f7481",
   "metadata": {},
   "outputs": [
    {
     "data": {
      "text/html": [
       "<div>\n",
       "<style scoped>\n",
       "    .dataframe tbody tr th:only-of-type {\n",
       "        vertical-align: middle;\n",
       "    }\n",
       "\n",
       "    .dataframe tbody tr th {\n",
       "        vertical-align: top;\n",
       "    }\n",
       "\n",
       "    .dataframe thead th {\n",
       "        text-align: right;\n",
       "    }\n",
       "</style>\n",
       "<table border=\"1\" class=\"dataframe\">\n",
       "  <thead>\n",
       "    <tr style=\"text-align: right;\">\n",
       "      <th></th>\n",
       "      <th>food item</th>\n",
       "      <th>weight_in_grams</th>\n",
       "      <th>saturated_fat</th>\n",
       "      <th>cholesterol</th>\n",
       "    </tr>\n",
       "  </thead>\n",
       "  <tbody>\n",
       "    <tr>\n",
       "      <th>0</th>\n",
       "      <td>GELATIN; DRY                  1 ENVELP</td>\n",
       "      <td>7.00</td>\n",
       "      <td>0.0</td>\n",
       "      <td>0</td>\n",
       "    </tr>\n",
       "    <tr>\n",
       "      <th>1</th>\n",
       "      <td>SEAWEED; SPIRULINA; DRIED     1 OZ</td>\n",
       "      <td>28.35</td>\n",
       "      <td>0.8</td>\n",
       "      <td>0</td>\n",
       "    </tr>\n",
       "    <tr>\n",
       "      <th>2</th>\n",
       "      <td>YEAST; BAKERS; DRY; ACTIVE    1 PKG</td>\n",
       "      <td>7.00</td>\n",
       "      <td>0.0</td>\n",
       "      <td>0</td>\n",
       "    </tr>\n",
       "    <tr>\n",
       "      <th>3</th>\n",
       "      <td>PARMESAN CHEESE; GRATED       1 OZ</td>\n",
       "      <td>28.35</td>\n",
       "      <td>5.4</td>\n",
       "      <td>22</td>\n",
       "    </tr>\n",
       "    <tr>\n",
       "      <th>4</th>\n",
       "      <td>PARMESAN CHEESE; GRATED       1 CUP</td>\n",
       "      <td>100.00</td>\n",
       "      <td>19.1</td>\n",
       "      <td>79</td>\n",
       "    </tr>\n",
       "    <tr>\n",
       "      <th>...</th>\n",
       "      <td>...</td>\n",
       "      <td>...</td>\n",
       "      <td>...</td>\n",
       "      <td>...</td>\n",
       "    </tr>\n",
       "    <tr>\n",
       "      <th>956</th>\n",
       "      <td>COFFEE; BREWED                6 FL OZ</td>\n",
       "      <td>180.00</td>\n",
       "      <td>0.0</td>\n",
       "      <td>0</td>\n",
       "    </tr>\n",
       "    <tr>\n",
       "      <th>957</th>\n",
       "      <td>TEA; BREWED                   8 FL OZ</td>\n",
       "      <td>240.00</td>\n",
       "      <td>0.0</td>\n",
       "      <td>0</td>\n",
       "    </tr>\n",
       "    <tr>\n",
       "      <th>958</th>\n",
       "      <td>TEA; INSTANT;PREPRD;UNSWEETEND8 FL OZ</td>\n",
       "      <td>241.00</td>\n",
       "      <td>0.0</td>\n",
       "      <td>0</td>\n",
       "    </tr>\n",
       "    <tr>\n",
       "      <th>959</th>\n",
       "      <td>LETTUCE; BUTTERHEAD; RAW;LEAVE1 LEAF</td>\n",
       "      <td>15.00</td>\n",
       "      <td>0.0</td>\n",
       "      <td>0</td>\n",
       "    </tr>\n",
       "    <tr>\n",
       "      <th>960</th>\n",
       "      <td>SALT                          1 TSP</td>\n",
       "      <td>5.50</td>\n",
       "      <td>0.0</td>\n",
       "      <td>0</td>\n",
       "    </tr>\n",
       "  </tbody>\n",
       "</table>\n",
       "<p>961 rows × 4 columns</p>\n",
       "</div>"
      ],
      "text/plain": [
       "                                  food item  weight_in_grams  saturated_fat  \\\n",
       "0    GELATIN; DRY                  1 ENVELP             7.00            0.0   \n",
       "1    SEAWEED; SPIRULINA; DRIED     1 OZ                28.35            0.8   \n",
       "2    YEAST; BAKERS; DRY; ACTIVE    1 PKG                7.00            0.0   \n",
       "3    PARMESAN CHEESE; GRATED       1 OZ                28.35            5.4   \n",
       "4    PARMESAN CHEESE; GRATED       1 CUP              100.00           19.1   \n",
       "..                                      ...              ...            ...   \n",
       "956  COFFEE; BREWED                6 FL OZ            180.00            0.0   \n",
       "957  TEA; BREWED                   8 FL OZ            240.00            0.0   \n",
       "958  TEA; INSTANT;PREPRD;UNSWEETEND8 FL OZ            241.00            0.0   \n",
       "959  LETTUCE; BUTTERHEAD; RAW;LEAVE1 LEAF              15.00            0.0   \n",
       "960  SALT                          1 TSP                5.50            0.0   \n",
       "\n",
       "     cholesterol  \n",
       "0              0  \n",
       "1              0  \n",
       "2              0  \n",
       "3             22  \n",
       "4             79  \n",
       "..           ...  \n",
       "956            0  \n",
       "957            0  \n",
       "958            0  \n",
       "959            0  \n",
       "960            0  \n",
       "\n",
       "[961 rows x 4 columns]"
      ]
     },
     "execution_count": 1,
     "metadata": {},
     "output_type": "execute_result"
    }
   ],
   "source": [
    "# READ the nutrition file from local machine\n",
    "\n",
    "import pandas as pd\n",
    "\n",
    "DF1 = pd.read_csv(\"nutrition_subset.csv\")\n",
    "\n",
    "DF1"
   ]
  },
  {
   "cell_type": "code",
   "execution_count": 2,
   "id": "0b787a95",
   "metadata": {},
   "outputs": [
    {
     "data": {
      "text/html": [
       "<div>\n",
       "<style scoped>\n",
       "    .dataframe tbody tr th:only-of-type {\n",
       "        vertical-align: middle;\n",
       "    }\n",
       "\n",
       "    .dataframe tbody tr th {\n",
       "        vertical-align: top;\n",
       "    }\n",
       "\n",
       "    .dataframe thead th {\n",
       "        text-align: right;\n",
       "    }\n",
       "</style>\n",
       "<table border=\"1\" class=\"dataframe\">\n",
       "  <thead>\n",
       "    <tr style=\"text-align: right;\">\n",
       "      <th></th>\n",
       "      <th>food item</th>\n",
       "      <th>weight_in_grams</th>\n",
       "      <th>saturated_fat</th>\n",
       "      <th>cholesterol</th>\n",
       "    </tr>\n",
       "  </thead>\n",
       "  <tbody>\n",
       "    <tr>\n",
       "      <th>378</th>\n",
       "      <td>CHEESECAKE                    1 CAKE</td>\n",
       "      <td>1110.0</td>\n",
       "      <td>119.9</td>\n",
       "      <td>2053</td>\n",
       "    </tr>\n",
       "    <tr>\n",
       "      <th>535</th>\n",
       "      <td>ICE CREAM; VANLLA; RICH 16% FT1/2 GAL</td>\n",
       "      <td>1188.0</td>\n",
       "      <td>118.3</td>\n",
       "      <td>703</td>\n",
       "    </tr>\n",
       "    <tr>\n",
       "      <th>458</th>\n",
       "      <td>YELLOWCAKE W/ CHOCFRSTNG;COMML1 CAKE</td>\n",
       "      <td>1108.0</td>\n",
       "      <td>92.0</td>\n",
       "      <td>609</td>\n",
       "    </tr>\n",
       "    <tr>\n",
       "      <th>581</th>\n",
       "      <td>CREME PIE                     1 PIE</td>\n",
       "      <td>910.0</td>\n",
       "      <td>90.1</td>\n",
       "      <td>46</td>\n",
       "    </tr>\n",
       "    <tr>\n",
       "      <th>890</th>\n",
       "      <td>LARD                          1 CUP</td>\n",
       "      <td>205.0</td>\n",
       "      <td>80.4</td>\n",
       "      <td>195</td>\n",
       "    </tr>\n",
       "  </tbody>\n",
       "</table>\n",
       "</div>"
      ],
      "text/plain": [
       "                                  food item  weight_in_grams  saturated_fat  \\\n",
       "378  CHEESECAKE                    1 CAKE             1110.0          119.9   \n",
       "535  ICE CREAM; VANLLA; RICH 16% FT1/2 GAL            1188.0          118.3   \n",
       "458  YELLOWCAKE W/ CHOCFRSTNG;COMML1 CAKE             1108.0           92.0   \n",
       "581  CREME PIE                     1 PIE               910.0           90.1   \n",
       "890  LARD                          1 CUP               205.0           80.4   \n",
       "\n",
       "     cholesterol  \n",
       "378         2053  \n",
       "535          703  \n",
       "458          609  \n",
       "581           46  \n",
       "890          195  "
      ]
     },
     "execution_count": 2,
     "metadata": {},
     "output_type": "execute_result"
    }
   ],
   "source": [
    "# List the top 5 saturated fat for food item\n",
    "\n",
    "# In this case, one cheesecake has 119.9 saturated fat\n",
    "# a half of a gallon of vanlla ice cream has 119.3 saturated fat \n",
    "# a yellowcake has 92 saturated fat\n",
    "# 1 creme pie has 90.1 saturated fat\n",
    "# a cup of lard has 80.4 saturated fat\n",
    "\n",
    "\n",
    "DF1.nlargest(5, ['saturated_fat'])"
   ]
  },
  {
   "cell_type": "code",
   "execution_count": 3,
   "id": "02bc7fc6",
   "metadata": {},
   "outputs": [
    {
     "data": {
      "text/html": [
       "<div>\n",
       "<style scoped>\n",
       "    .dataframe tbody tr th:only-of-type {\n",
       "        vertical-align: middle;\n",
       "    }\n",
       "\n",
       "    .dataframe tbody tr th {\n",
       "        vertical-align: top;\n",
       "    }\n",
       "\n",
       "    .dataframe thead th {\n",
       "        text-align: right;\n",
       "    }\n",
       "</style>\n",
       "<table border=\"1\" class=\"dataframe\">\n",
       "  <thead>\n",
       "    <tr style=\"text-align: right;\">\n",
       "      <th></th>\n",
       "      <th>food item</th>\n",
       "      <th>weight_in_grams</th>\n",
       "      <th>saturated_fat</th>\n",
       "      <th>cholesterol</th>\n",
       "      <th>saturated_fat_per_gram</th>\n",
       "    </tr>\n",
       "  </thead>\n",
       "  <tbody>\n",
       "    <tr>\n",
       "      <th>0</th>\n",
       "      <td>GELATIN; DRY                  1 ENVELP</td>\n",
       "      <td>7.00</td>\n",
       "      <td>0.0</td>\n",
       "      <td>0</td>\n",
       "      <td>0.000000</td>\n",
       "    </tr>\n",
       "    <tr>\n",
       "      <th>1</th>\n",
       "      <td>SEAWEED; SPIRULINA; DRIED     1 OZ</td>\n",
       "      <td>28.35</td>\n",
       "      <td>0.8</td>\n",
       "      <td>0</td>\n",
       "      <td>0.028219</td>\n",
       "    </tr>\n",
       "    <tr>\n",
       "      <th>2</th>\n",
       "      <td>YEAST; BAKERS; DRY; ACTIVE    1 PKG</td>\n",
       "      <td>7.00</td>\n",
       "      <td>0.0</td>\n",
       "      <td>0</td>\n",
       "      <td>0.000000</td>\n",
       "    </tr>\n",
       "    <tr>\n",
       "      <th>3</th>\n",
       "      <td>PARMESAN CHEESE; GRATED       1 OZ</td>\n",
       "      <td>28.35</td>\n",
       "      <td>5.4</td>\n",
       "      <td>22</td>\n",
       "      <td>0.190476</td>\n",
       "    </tr>\n",
       "    <tr>\n",
       "      <th>4</th>\n",
       "      <td>PARMESAN CHEESE; GRATED       1 CUP</td>\n",
       "      <td>100.00</td>\n",
       "      <td>19.1</td>\n",
       "      <td>79</td>\n",
       "      <td>0.191000</td>\n",
       "    </tr>\n",
       "    <tr>\n",
       "      <th>...</th>\n",
       "      <td>...</td>\n",
       "      <td>...</td>\n",
       "      <td>...</td>\n",
       "      <td>...</td>\n",
       "      <td>...</td>\n",
       "    </tr>\n",
       "    <tr>\n",
       "      <th>956</th>\n",
       "      <td>COFFEE; BREWED                6 FL OZ</td>\n",
       "      <td>180.00</td>\n",
       "      <td>0.0</td>\n",
       "      <td>0</td>\n",
       "      <td>0.000000</td>\n",
       "    </tr>\n",
       "    <tr>\n",
       "      <th>957</th>\n",
       "      <td>TEA; BREWED                   8 FL OZ</td>\n",
       "      <td>240.00</td>\n",
       "      <td>0.0</td>\n",
       "      <td>0</td>\n",
       "      <td>0.000000</td>\n",
       "    </tr>\n",
       "    <tr>\n",
       "      <th>958</th>\n",
       "      <td>TEA; INSTANT;PREPRD;UNSWEETEND8 FL OZ</td>\n",
       "      <td>241.00</td>\n",
       "      <td>0.0</td>\n",
       "      <td>0</td>\n",
       "      <td>0.000000</td>\n",
       "    </tr>\n",
       "    <tr>\n",
       "      <th>959</th>\n",
       "      <td>LETTUCE; BUTTERHEAD; RAW;LEAVE1 LEAF</td>\n",
       "      <td>15.00</td>\n",
       "      <td>0.0</td>\n",
       "      <td>0</td>\n",
       "      <td>0.000000</td>\n",
       "    </tr>\n",
       "    <tr>\n",
       "      <th>960</th>\n",
       "      <td>SALT                          1 TSP</td>\n",
       "      <td>5.50</td>\n",
       "      <td>0.0</td>\n",
       "      <td>0</td>\n",
       "      <td>0.000000</td>\n",
       "    </tr>\n",
       "  </tbody>\n",
       "</table>\n",
       "<p>961 rows × 5 columns</p>\n",
       "</div>"
      ],
      "text/plain": [
       "                                  food item  weight_in_grams  saturated_fat  \\\n",
       "0    GELATIN; DRY                  1 ENVELP             7.00            0.0   \n",
       "1    SEAWEED; SPIRULINA; DRIED     1 OZ                28.35            0.8   \n",
       "2    YEAST; BAKERS; DRY; ACTIVE    1 PKG                7.00            0.0   \n",
       "3    PARMESAN CHEESE; GRATED       1 OZ                28.35            5.4   \n",
       "4    PARMESAN CHEESE; GRATED       1 CUP              100.00           19.1   \n",
       "..                                      ...              ...            ...   \n",
       "956  COFFEE; BREWED                6 FL OZ            180.00            0.0   \n",
       "957  TEA; BREWED                   8 FL OZ            240.00            0.0   \n",
       "958  TEA; INSTANT;PREPRD;UNSWEETEND8 FL OZ            241.00            0.0   \n",
       "959  LETTUCE; BUTTERHEAD; RAW;LEAVE1 LEAF              15.00            0.0   \n",
       "960  SALT                          1 TSP                5.50            0.0   \n",
       "\n",
       "     cholesterol  saturated_fat_per_gram  \n",
       "0              0                0.000000  \n",
       "1              0                0.028219  \n",
       "2              0                0.000000  \n",
       "3             22                0.190476  \n",
       "4             79                0.191000  \n",
       "..           ...                     ...  \n",
       "956            0                0.000000  \n",
       "957            0                0.000000  \n",
       "958            0                0.000000  \n",
       "959            0                0.000000  \n",
       "960            0                0.000000  \n",
       "\n",
       "[961 rows x 5 columns]"
      ]
     },
     "execution_count": 3,
     "metadata": {},
     "output_type": "execute_result"
    }
   ],
   "source": [
    "# calculate the saturated fat per gram, then insert it to a new columns\n",
    "\n",
    "\n",
    "\n",
    "saturatedFatPerGram =  DF1.saturated_fat/DF1.weight_in_grams\n",
    "\n",
    "DF1.insert(4, \"saturated_fat_per_gram\", saturatedFatPerGram)\n",
    "\n",
    "DF1"
   ]
  },
  {
   "cell_type": "code",
   "execution_count": 4,
   "id": "c007c840",
   "metadata": {},
   "outputs": [
    {
     "data": {
      "text/html": [
       "<div>\n",
       "<style scoped>\n",
       "    .dataframe tbody tr th:only-of-type {\n",
       "        vertical-align: middle;\n",
       "    }\n",
       "\n",
       "    .dataframe tbody tr th {\n",
       "        vertical-align: top;\n",
       "    }\n",
       "\n",
       "    .dataframe thead th {\n",
       "        text-align: right;\n",
       "    }\n",
       "</style>\n",
       "<table border=\"1\" class=\"dataframe\">\n",
       "  <thead>\n",
       "    <tr style=\"text-align: right;\">\n",
       "      <th></th>\n",
       "      <th>food item</th>\n",
       "      <th>weight_in_grams</th>\n",
       "      <th>saturated_fat</th>\n",
       "      <th>cholesterol</th>\n",
       "      <th>saturated_fat_per_gram</th>\n",
       "    </tr>\n",
       "  </thead>\n",
       "  <tbody>\n",
       "    <tr>\n",
       "      <th>908</th>\n",
       "      <td>BUTTER; SALTED                1 TBSP</td>\n",
       "      <td>14.0</td>\n",
       "      <td>7.1</td>\n",
       "      <td>31</td>\n",
       "      <td>0.507143</td>\n",
       "    </tr>\n",
       "    <tr>\n",
       "      <th>909</th>\n",
       "      <td>BUTTER; UNSALTED              1 TBSP</td>\n",
       "      <td>14.0</td>\n",
       "      <td>7.1</td>\n",
       "      <td>31</td>\n",
       "      <td>0.507143</td>\n",
       "    </tr>\n",
       "    <tr>\n",
       "      <th>709</th>\n",
       "      <td>BUTTER; SALTED                1/2 CUP</td>\n",
       "      <td>113.0</td>\n",
       "      <td>57.1</td>\n",
       "      <td>247</td>\n",
       "      <td>0.505310</td>\n",
       "    </tr>\n",
       "    <tr>\n",
       "      <th>710</th>\n",
       "      <td>BUTTER; UNSALTED              1/2 CUP</td>\n",
       "      <td>113.0</td>\n",
       "      <td>57.1</td>\n",
       "      <td>247</td>\n",
       "      <td>0.505310</td>\n",
       "    </tr>\n",
       "    <tr>\n",
       "      <th>912</th>\n",
       "      <td>BUTTER; SALTED                1 PAT</td>\n",
       "      <td>5.0</td>\n",
       "      <td>2.5</td>\n",
       "      <td>11</td>\n",
       "      <td>0.500000</td>\n",
       "    </tr>\n",
       "  </tbody>\n",
       "</table>\n",
       "</div>"
      ],
      "text/plain": [
       "                                  food item  weight_in_grams  saturated_fat  \\\n",
       "908  BUTTER; SALTED                1 TBSP               14.0            7.1   \n",
       "909  BUTTER; UNSALTED              1 TBSP               14.0            7.1   \n",
       "709  BUTTER; SALTED                1/2 CUP             113.0           57.1   \n",
       "710  BUTTER; UNSALTED              1/2 CUP             113.0           57.1   \n",
       "912  BUTTER; SALTED                1 PAT                 5.0            2.5   \n",
       "\n",
       "     cholesterol  saturated_fat_per_gram  \n",
       "908           31                0.507143  \n",
       "909           31                0.507143  \n",
       "709          247                0.505310  \n",
       "710          247                0.505310  \n",
       "912           11                0.500000  "
      ]
     },
     "execution_count": 4,
     "metadata": {},
     "output_type": "execute_result"
    }
   ],
   "source": [
    "# print out the top five of saturated_fat_per_gram\n",
    "\n",
    "DF1.nlargest(5,[\"saturated_fat_per_gram\"])"
   ]
  },
  {
   "cell_type": "code",
   "execution_count": 5,
   "id": "a5d11003",
   "metadata": {},
   "outputs": [
    {
     "data": {
      "image/png": "[encoded data removed]",
      "text/plain": [
       "<Figure size 432x288 with 1 Axes>"
      ]
     },
     "metadata": {
      "needs_background": "light"
     },
     "output_type": "display_data"
    }
   ],
   "source": [
    "#create the density plot of the saturated_fat_per_gram\n",
    "from scipy import stats\n",
    "import matplotlib.pyplot as plt\n",
    "\n",
    "\n",
    "DF1['saturated_fat_per_gram'] = stats.zscore(DF1.saturated_fat_per_gram, nan_policy='omit')\n",
    "\n",
    "\n",
    "DF1.saturated_fat_per_gram.plot.density(color=\"blue\")\n",
    "plt.title('Density plot for saturated_fat_per_gram')\n",
    "plt.show()"
   ]
  },
  {
   "cell_type": "code",
   "execution_count": 6,
   "id": "56406ca7",
   "metadata": {},
   "outputs": [
    {
     "data": {
      "text/plain": [
       "count    9.610000e+02\n",
       "mean     1.370161e-16\n",
       "std      1.000521e+00\n",
       "min     -5.623352e-01\n",
       "25%     -5.623352e-01\n",
       "50%     -4.412993e-01\n",
       "75%      1.539996e-01\n",
       "max      7.110475e+00\n",
       "Name: saturated_fat_per_gram, dtype: float64"
      ]
     },
     "execution_count": 6,
     "metadata": {},
     "output_type": "execute_result"
    }
   ],
   "source": [
    "# describe the saturated_fat_per_gram\n",
    "\n",
    "DF1['saturated_fat_per_gram'].describe()"
   ]
  },
  {
   "cell_type": "code",
   "execution_count": 7,
   "id": "acd61f14",
   "metadata": {},
   "outputs": [
    {
     "data": {
      "text/plain": [
       "210    4.240676\n",
       "448    3.938687\n",
       "492    4.204266\n",
       "576    3.942889\n",
       "709    7.082741\n",
       "710    7.082741\n",
       "890    5.371375\n",
       "898    3.278227\n",
       "899    5.373078\n",
       "907    3.223726\n",
       "908    7.110475\n",
       "909    7.110475\n",
       "912    7.002408\n",
       "913    7.002408\n",
       "920    4.732985\n",
       "Name: saturated_fat_per_gram, dtype: float64"
      ]
     },
     "execution_count": 7,
     "metadata": {},
     "output_type": "execute_result"
    }
   ],
   "source": [
    "# Determine the  high outliers using the three sigma rule \n",
    "\n",
    "DF1_HighOutliers = DF1.query('(saturated_fat_per_gram > 3)')['saturated_fat_per_gram']\n",
    "\n",
    "DF1_HighOutliers "
   ]
  },
  {
   "cell_type": "code",
   "execution_count": 8,
   "id": "ea1803ad",
   "metadata": {},
   "outputs": [
    {
     "data": {
      "text/plain": [
       "Series([], Name: saturated_fat_per_gram, dtype: float64)"
      ]
     },
     "execution_count": 8,
     "metadata": {},
     "output_type": "execute_result"
    }
   ],
   "source": [
    "# Determine the low outliers using the three sigma rule \n",
    "#there is no low outliers\n",
    "\n",
    "DF1_LowOutliers = DF1.query('(saturated_fat_per_gram < -3)')['saturated_fat_per_gram']\n",
    "\n",
    "DF1_LowOutliers "
   ]
  },
  {
   "cell_type": "code",
   "execution_count": 10,
   "id": "ded51526",
   "metadata": {},
   "outputs": [
    {
     "name": "stdout",
     "output_type": "stream",
     "text": [
      "0     -0.562335\n",
      "1     -0.135401\n",
      "2     -0.562335\n",
      "3      2.319472\n",
      "4      2.327397\n",
      "         ...   \n",
      "956   -0.562335\n",
      "957   -0.562335\n",
      "958   -0.562335\n",
      "959   -0.562335\n",
      "960   -0.562335\n",
      "Name: saturated_fat_per_gram, Length: 961, dtype: float64\n"
     ]
    }
   ],
   "source": [
    "# Load the impute package\n",
    "# import the numpy\n",
    "\n",
    "from sklearn.impute import SimpleImputer\n",
    "import numpy as np\n",
    "\n",
    "\n",
    "# also try to use mediam to input the saturated_fat_per_gram\n",
    "imputer = SimpleImputer(missing_values=0, strategy='median')\n",
    "\n",
    "DF1.saturated_fat_per_gram = imputer.fit_transform(DF1['saturated_fat_per_gram'].values.reshape(-1,1))[:,0]\n",
    "\n",
    "print(DF1.saturated_fat_per_gram)"
   ]
  },
  {
   "cell_type": "code",
   "execution_count": 17,
   "id": "f7e7fa9f",
   "metadata": {},
   "outputs": [
    {
     "data": {
      "text/plain": [
       "count    9.610000e+02\n",
       "mean    -6.170345e-16\n",
       "std      1.000521e+00\n",
       "min     -2.715103e-01\n",
       "25%     -2.715103e-01\n",
       "50%     -2.715103e-01\n",
       "75%     -1.047021e-01\n",
       "max      1.685135e+01\n",
       "Name: weight_in_gram, dtype: float64"
      ]
     },
     "execution_count": 17,
     "metadata": {},
     "output_type": "execute_result"
    }
   ],
   "source": [
    "# standadize the numeric value\n",
    "# and describe the weight in grams\n",
    "DF1['weight_in_gram'] = stats.zscore(DF1.cholesterol, nan_policy='omit')\n",
    "\n",
    "DF1['saturated_fat'] = stats.zscore(DF1.saturated_fat, nan_policy='omit')\n",
    "\n",
    "DF1['cholesterol'] = stats.zscore(DF1.cholesterol, nan_policy='omit')\n",
    "\n",
    "DF1['weight_in_gram'].describe()"
   ]
  },
  {
   "cell_type": "code",
   "execution_count": 12,
   "id": "842f0c36",
   "metadata": {},
   "outputs": [
    {
     "data": {
      "text/plain": [
       "count    9.610000e+02\n",
       "mean     2.533527e-16\n",
       "std      1.000521e+00\n",
       "min     -3.713291e-01\n",
       "25%     -3.713291e-01\n",
       "50%     -3.340809e-01\n",
       "75%     -6.403128e-02\n",
       "max      1.079383e+01\n",
       "Name: saturated_fat, dtype: float64"
      ]
     },
     "execution_count": 12,
     "metadata": {},
     "output_type": "execute_result"
    }
   ],
   "source": [
    "# descirbe the saturated_fat\n",
    "DF1['saturated_fat'].describe()"
   ]
  },
  {
   "cell_type": "code",
   "execution_count": 13,
   "id": "4fe0a5a5",
   "metadata": {},
   "outputs": [
    {
     "data": {
      "text/plain": [
       "count    9.610000e+02\n",
       "mean    -6.330928e-16\n",
       "std      1.000521e+00\n",
       "min     -2.715103e-01\n",
       "25%     -2.715103e-01\n",
       "50%     -2.715103e-01\n",
       "75%     -1.047021e-01\n",
       "max      1.685135e+01\n",
       "Name: cholesterol, dtype: float64"
      ]
     },
     "execution_count": 13,
     "metadata": {},
     "output_type": "execute_result"
    }
   ],
   "source": [
    "#describe the saturated_fat\n",
    "DF1['cholesterol'].describe() "
   ]
  },
  {
   "cell_type": "code",
   "execution_count": 14,
   "id": "b8de621e",
   "metadata": {},
   "outputs": [
    {
     "data": {
      "text/plain": [
       "45      3.148058\n",
       "351     4.357418\n",
       "361     8.152305\n",
       "376     5.066353\n",
       "378    16.851355\n",
       "384     8.902942\n",
       "386     4.474184\n",
       "406     4.332397\n",
       "410     4.716056\n",
       "422     9.595197\n",
       "423     4.532567\n",
       "430     5.191459\n",
       "452     6.876222\n",
       "458     4.807800\n",
       "466     3.698526\n",
       "479     5.032991\n",
       "535     5.591799\n",
       "Name: weight_in_grams, dtype: float64"
      ]
     },
     "execution_count": 14,
     "metadata": {},
     "output_type": "execute_result"
    }
   ],
   "source": [
    "# range the outlier and print the weight in grams\n",
    "DF1_Outliers = DF1.query('(weight_in_grams > 3 | weight_in_grams < -3 )')['weight_in_grams']\n",
    "\n",
    "DF1_Outliers"
   ]
  },
  {
   "cell_type": "code",
   "execution_count": 15,
   "id": "a9ba3771",
   "metadata": {},
   "outputs": [
    {
     "data": {
      "text/plain": [
       "45      3.148058\n",
       "351     4.357418\n",
       "361     8.152305\n",
       "376     5.066353\n",
       "378    16.851355\n",
       "384     8.902942\n",
       "386     4.474184\n",
       "406     4.332397\n",
       "410     4.716056\n",
       "422     9.595197\n",
       "423     4.532567\n",
       "430     5.191459\n",
       "452     6.876222\n",
       "458     4.807800\n",
       "466     3.698526\n",
       "479     5.032991\n",
       "535     5.591799\n",
       "Name: cholesterol, dtype: float64"
      ]
     },
     "execution_count": 15,
     "metadata": {},
     "output_type": "execute_result"
    }
   ],
   "source": [
    "# range the outlier and print the cholesterol\n",
    "\n",
    "DF1_Outliers2 = DF1.query('(cholesterol > 3 | cholesterol < -3 )')['cholesterol']\n",
    "\n",
    "DF1_Outliers2"
   ]
  },
  {
   "cell_type": "code",
   "execution_count": 16,
   "id": "f80e8bb5",
   "metadata": {},
   "outputs": [
    {
     "data": {
      "text/plain": [
       "376     4.061209\n",
       "378    10.793826\n",
       "384     4.470940\n",
       "410     4.806174\n",
       "422     5.774628\n",
       "423     4.079833\n",
       "430     3.185876\n",
       "458     8.195762\n",
       "466     6.268167\n",
       "479     3.502486\n",
       "535    10.644833\n",
       "581     8.018833\n",
       "587     4.731677\n",
       "588     3.930841\n",
       "709     4.945855\n",
       "710     4.945855\n",
       "890     7.115564\n",
       "901     3.027571\n",
       "905     3.278997\n",
       "907     4.405755\n",
       "Name: saturated_fat, dtype: float64"
      ]
     },
     "execution_count": 16,
     "metadata": {},
     "output_type": "execute_result"
    }
   ],
   "source": [
    "# range the outlier and print the saturated fat\n",
    "\n",
    "DF1_Outliers3 = DF1.query('(saturated_fat > 3 | saturated_fat < -3 )')['saturated_fat']\n",
    "\n",
    "DF1_Outliers3"
   ]
  },
  {
   "cell_type": "code",
   "execution_count": null,
   "id": "bb5d422c",
   "metadata": {},
   "outputs": [],
   "source": []
  }
 ],
 "metadata": {
  "kernelspec": {
   "display_name": "Python 3 (ipykernel)",
   "language": "python",
   "name": "python3"
  },
  "language_info": {
   "codemirror_mode": {
    "name": "ipython",
    "version": 3
   },
   "file_extension": ".py",
   "mimetype": "text/x-python",
   "name": "python",
   "nbconvert_exporter": "python",
   "pygments_lexer": "ipython3",
   "version": "3.9.7"
  }
 },
 "nbformat": 4,
 "nbformat_minor": 5
}
