{
 "cells": [
  {
   "cell_type": "code",
   "execution_count": 1,
   "id": "b4a3a736",
   "metadata": {},
   "outputs": [
    {
     "name": "stderr",
     "output_type": "stream",
     "text": [
      "Parsed with column specification:\n",
      "cols(\n",
      "  `food item` = col_character(),\n",
      "  weight_in_grams = col_double(),\n",
      "  saturated_fat = col_double(),\n",
      "  cholesterol = col_double()\n",
      ")\n"
     ]
    },
    {
     "name": "stdout",
     "output_type": "stream",
     "text": [
      "# A tibble: 961 x 4\n",
      "   `food item`                         weight_in_grams saturated_fat cholesterol\n",
      "   <chr>                                         <dbl>         <dbl>       <dbl>\n",
      " 1 GELATIN; DRY                  1 EN…             7             0             0\n",
      " 2 SEAWEED; SPIRULINA; DRIED     1 OZ             28.4           0.8           0\n",
      " 3 YEAST; BAKERS; DRY; ACTIVE    1 PKG             7             0             0\n",
      " 4 PARMESAN CHEESE; GRATED       1 OZ             28.4           5.4          22\n",
      " 5 PARMESAN CHEESE; GRATED       1 CUP           100            19.1          79\n",
      " 6 PARMESAN CHEESE; GRATED       1 TB…             5             1             4\n",
      " 7 YEAST; BREWERS; DRY           1 TB…             8             0             0\n",
      " 8 LAMB;CHOPS;ARM;BRAISED;LEAN   1.7 …            48             2.9          59\n",
      " 9 TUNA; CANND; DRND;WATR; WHITE 3 OZ             85             0.3          48\n",
      "10 NONFAT DRY MILK; INSTANTIZED  1 CUP            68             0.3          12\n",
      "# … with 951 more rows\n"
     ]
    }
   ],
   "source": [
    "# use the package and read the nutrition file\n",
    "library(readr)\n",
    "DF1 <- read_csv(\"nutrition_subset.csv\")\n",
    "print(DF1)"
   ]
  },
  {
   "cell_type": "code",
   "execution_count": 2,
   "id": "83bc751c",
   "metadata": {},
   "outputs": [
    {
     "data": {
      "text/html": [
       "<table>\n",
       "<thead><tr><th scope=col>saturated_fat</th></tr></thead>\n",
       "<tbody>\n",
       "\t<tr><td>119.9</td></tr>\n",
       "\t<tr><td>118.3</td></tr>\n",
       "\t<tr><td> 92.0</td></tr>\n",
       "\t<tr><td> 90.1</td></tr>\n",
       "\t<tr><td> 80.4</td></tr>\n",
       "</tbody>\n",
       "</table>\n"
      ],
      "text/latex": [
       "\\begin{tabular}{r|l}\n",
       " saturated\\_fat\\\\\n",
       "\\hline\n",
       "\t 119.9\\\\\n",
       "\t 118.3\\\\\n",
       "\t  92.0\\\\\n",
       "\t  90.1\\\\\n",
       "\t  80.4\\\\\n",
       "\\end{tabular}\n"
      ],
      "text/markdown": [
       "\n",
       "| saturated_fat |\n",
       "|---|\n",
       "| 119.9 |\n",
       "| 118.3 |\n",
       "|  92.0 |\n",
       "|  90.1 |\n",
       "|  80.4 |\n",
       "\n"
      ],
      "text/plain": [
       "  saturated_fat\n",
       "1 119.9        \n",
       "2 118.3        \n",
       "3  92.0        \n",
       "4  90.1        \n",
       "5  80.4        "
      ]
     },
     "metadata": {},
     "output_type": "display_data"
    }
   ],
   "source": [
    "# sort the saturated_fat in decresing order then, print the top five \n",
    "head(DF1[order(DF1$saturated_fat, decreasing=TRUE), 3], 5)\n"
   ]
  },
  {
   "cell_type": "code",
   "execution_count": 3,
   "id": "34f58693",
   "metadata": {},
   "outputs": [
    {
     "data": {
      "text/html": [
       "<table>\n",
       "<thead><tr><th scope=col>saturated_fat_per_grams</th></tr></thead>\n",
       "<tbody>\n",
       "\t<tr><td>0.5071429</td></tr>\n",
       "\t<tr><td>0.5071429</td></tr>\n",
       "\t<tr><td>0.5053097</td></tr>\n",
       "\t<tr><td>0.5053097</td></tr>\n",
       "\t<tr><td>0.5000000</td></tr>\n",
       "</tbody>\n",
       "</table>\n"
      ],
      "text/latex": [
       "\\begin{tabular}{r|l}\n",
       " saturated\\_fat\\_per\\_grams\\\\\n",
       "\\hline\n",
       "\t 0.5071429\\\\\n",
       "\t 0.5071429\\\\\n",
       "\t 0.5053097\\\\\n",
       "\t 0.5053097\\\\\n",
       "\t 0.5000000\\\\\n",
       "\\end{tabular}\n"
      ],
      "text/markdown": [
       "\n",
       "| saturated_fat_per_grams |\n",
       "|---|\n",
       "| 0.5071429 |\n",
       "| 0.5071429 |\n",
       "| 0.5053097 |\n",
       "| 0.5053097 |\n",
       "| 0.5000000 |\n",
       "\n"
      ],
      "text/plain": [
       "  saturated_fat_per_grams\n",
       "1 0.5071429              \n",
       "2 0.5071429              \n",
       "3 0.5053097              \n",
       "4 0.5053097              \n",
       "5 0.5000000              "
      ]
     },
     "metadata": {},
     "output_type": "display_data"
    }
   ],
   "source": [
    "# create a new variable and use saturated fat divided by weight in grams\n",
    "saturated_fat_per_grams <- DF1$saturated_fat/DF1$weight_in_grams\n",
    "\n",
    "# add new variable as a new column\n",
    "DF1$saturated_fat_per_grams <- saturated_fat_per_grams\n",
    "\n",
    "# sort the new variable and print the top five in decresing order\n",
    "head(DF1[order(DF1$saturated_fat_per_grams, decreasing=TRUE), 5], 5)"
   ]
  },
  {
   "cell_type": "code",
   "execution_count": 4,
   "id": "c5fc6eb2",
   "metadata": {},
   "outputs": [
    {
     "data": {
      "text/plain": [
       "       V1         \n",
       " Min.   :-0.5620  \n",
       " 1st Qu.:-0.5620  \n",
       " Median :-0.4411  \n",
       " Mean   : 0.0000  \n",
       " 3rd Qu.: 0.1539  \n",
       " Max.   : 7.1068  "
      ]
     },
     "metadata": {},
     "output_type": "display_data"
    }
   ],
   "source": [
    "# use default to calculate the z-score\n",
    "DF1$scaled_saturated_fat_per_grams <- scale(x = DF1$saturated_fat_per_grams)\n",
    "\n",
    "summary(DF1$scaled_saturated_fat_per_grams)"
   ]
  },
  {
   "cell_type": "code",
   "execution_count": 5,
   "id": "fb83114e",
   "metadata": {},
   "outputs": [
    {
     "name": "stdout",
     "output_type": "stream",
     "text": [
      "There are 0 outliers \n",
      "\n",
      "The scaled age values that are outliers: \n",
      "\n"
     ]
    },
    {
     "data": {
      "text/html": [],
      "text/latex": [],
      "text/markdown": [],
      "text/plain": [
       "numeric(0)"
      ]
     },
     "metadata": {},
     "output_type": "display_data"
    }
   ],
   "source": [
    "# Determine the three sigma rule for high outliers\n",
    "\n",
    "three_sigma_rule <- (DF1$saturated_fat_per_grams > 3 )\n",
    "\n",
    "\n",
    "# calculate the outliers \n",
    "cat (\"There are\", sum(three_sigma_rule), \"outliers \\n\\n\")\n",
    "\n",
    "\n",
    "cat(\"The scaled age values that are outliers: \\n\\n\")\n",
    "DF1$saturated_fat_per_grams[which(three_sigma_rule)]"
   ]
  },
  {
   "cell_type": "code",
   "execution_count": 6,
   "id": "d32917a8",
   "metadata": {},
   "outputs": [
    {
     "name": "stdout",
     "output_type": "stream",
     "text": [
      "There are 0 outliers \n",
      "\n",
      "The scaled age values that are outliers: \n",
      "\n"
     ]
    },
    {
     "data": {
      "text/html": [],
      "text/latex": [],
      "text/markdown": [],
      "text/plain": [
       "numeric(0)"
      ]
     },
     "metadata": {},
     "output_type": "display_data"
    }
   ],
   "source": [
    "# Determine the three sigma rule for low outliers\n",
    "\n",
    "three_sigma_rule2 <- (DF1$saturated_fat_per_grams < -3 )\n",
    "\n",
    "\n",
    "\n",
    "# calculate the outliers \n",
    "cat (\"There are\", sum(three_sigma_rule2), \"outliers \\n\\n\")\n",
    "\n",
    "cat(\"The scaled age values that are outliers: \\n\\n\")\n",
    "DF1$saturated_fat_per_grams[which(three_sigma_rule2)]"
   ]
  },
  {
   "cell_type": "code",
   "execution_count": 7,
   "id": "1fde34ef",
   "metadata": {},
   "outputs": [
    {
     "data": {
      "image/png": "[encoded data removed]",
      "text/plain": [
       "Plot with title “density.default(x = DF1$saturated_fat_per_grams)”"
      ]
     },
     "metadata": {},
     "output_type": "display_data"
    }
   ],
   "source": [
    "#  Density Plot\n",
    "DF1Density <- density(DF1$saturated_fat_per_grams) # returns the density data \n",
    "plot(DF1Density) # plots the results"
   ]
  },
  {
   "cell_type": "code",
   "execution_count": 8,
   "id": "6117dcac",
   "metadata": {},
   "outputs": [
    {
     "name": "stderr",
     "output_type": "stream",
     "text": [
      "also installing the dependencies ‘png’, ‘jpeg’, ‘checkmate’, ‘survival’, ‘latticeExtra’, ‘htmlTable’\n",
      "\n",
      "Warning message in install.packages(\"Hmisc\"):\n",
      "“installation of package ‘png’ had non-zero exit status”Warning message in install.packages(\"Hmisc\"):\n",
      "“installation of package ‘jpeg’ had non-zero exit status”Warning message in install.packages(\"Hmisc\"):\n",
      "“installation of package ‘checkmate’ had non-zero exit status”Warning message in install.packages(\"Hmisc\"):\n",
      "“installation of package ‘survival’ had non-zero exit status”Warning message in install.packages(\"Hmisc\"):\n",
      "“installation of package ‘latticeExtra’ had non-zero exit status”Warning message in install.packages(\"Hmisc\"):\n",
      "“installation of package ‘htmlTable’ had non-zero exit status”Warning message in install.packages(\"Hmisc\"):\n",
      "“installation of package ‘Hmisc’ had non-zero exit status”Updating HTML index of packages in '.Library'\n",
      "Making 'packages.html' ... done\n"
     ]
    },
    {
     "ename": "ERROR",
     "evalue": "Error in library(Hmisc): there is no package called ‘Hmisc’\n",
     "output_type": "error",
     "traceback": [
      "Error in library(Hmisc): there is no package called ‘Hmisc’\nTraceback:\n",
      "1. library(Hmisc)"
     ]
    }
   ],
   "source": [
    "# Install and load Hmisc\n",
    "\n",
    "install.packages(\"Hmisc\")\n",
    "library(Hmisc)\n",
    "\n",
    "# calculate the missing values\n",
    "cat(\"No. missing values = \", sum(is.na(DF1$saturated_fat_per_grams)), \"\\n\\n\")\n",
    "\n",
    "# view the data before imputation\n",
    "cat(\"Before imputation: \", head(DF1$saturated_fat_per_grams, 10), \"...\\n\")\n",
    "\n",
    "# impute missing values with the median value \n",
    "DF1$saturated_fat_per_grams_imputed <- with(DF1, impute(saturated_fat_per_grams, median))\n",
    "\n",
    "cat(\"After imputation: \", head(DF1$saturated_fat_per_grams_imputed, 10), \"...\\n\\n\\n\")"
   ]
  },
  {
   "cell_type": "code",
   "execution_count": 9,
   "id": "5ecd8de1",
   "metadata": {},
   "outputs": [
    {
     "data": {
      "text/plain": [
       "       V1         \n",
       " Min.   :-0.8471  \n",
       " 1st Qu.:-0.6674  \n",
       " Median :-0.2070  \n",
       " Mean   : 0.0000  \n",
       " 3rd Qu.: 0.3899  \n",
       " Max.   : 7.9165  "
      ]
     },
     "metadata": {},
     "output_type": "display_data"
    }
   ],
   "source": [
    "# use default to calculate the z-score for numeric values\n",
    "DF1$weight_in_grams <- scale(x = DF1$weight_in_grams)\n",
    "\n",
    "summary(DF1$weight_in_grams)"
   ]
  },
  {
   "cell_type": "code",
   "execution_count": 10,
   "id": "cc89f573",
   "metadata": {},
   "outputs": [
    {
     "name": "stdout",
     "output_type": "stream",
     "text": [
      "There are 22 outliers \n",
      "\n",
      "The scaled age values that are outliers: \n",
      "\n"
     ]
    },
    {
     "data": {
      "text/html": [
       "<ol class=list-inline>\n",
       "\t<li>4.32376451930241</li>\n",
       "\t<li>6.88758493609249</li>\n",
       "\t<li>5.46071370634901</li>\n",
       "\t<li>3.8405611148076</li>\n",
       "\t<li>3.56769330991642</li>\n",
       "\t<li>5.44365946854331</li>\n",
       "\t<li>7.88241547475827</li>\n",
       "\t<li>5.44934421447854</li>\n",
       "\t<li>4.32376451930241</li>\n",
       "\t<li>5.10825945836456</li>\n",
       "\t<li>5.631256084406</li>\n",
       "\t<li>3.9258323038361</li>\n",
       "\t<li>5.44934421447854</li>\n",
       "\t<li>5.19921539332829</li>\n",
       "\t<li>5.38112726325575</li>\n",
       "\t<li>5.90412388929718</li>\n",
       "\t<li>4.52273062703556</li>\n",
       "\t<li>4.52273062703556</li>\n",
       "\t<li>4.52273062703556</li>\n",
       "\t<li>4.52273062703556</li>\n",
       "\t<li>4.32376451930241</li>\n",
       "\t<li>7.91652395036966</li>\n",
       "</ol>\n"
      ],
      "text/latex": [
       "\\begin{enumerate*}\n",
       "\\item 4.32376451930241\n",
       "\\item 6.88758493609249\n",
       "\\item 5.46071370634901\n",
       "\\item 3.8405611148076\n",
       "\\item 3.56769330991642\n",
       "\\item 5.44365946854331\n",
       "\\item 7.88241547475827\n",
       "\\item 5.44934421447854\n",
       "\\item 4.32376451930241\n",
       "\\item 5.10825945836456\n",
       "\\item 5.631256084406\n",
       "\\item 3.9258323038361\n",
       "\\item 5.44934421447854\n",
       "\\item 5.19921539332829\n",
       "\\item 5.38112726325575\n",
       "\\item 5.90412388929718\n",
       "\\item 4.52273062703556\n",
       "\\item 4.52273062703556\n",
       "\\item 4.52273062703556\n",
       "\\item 4.52273062703556\n",
       "\\item 4.32376451930241\n",
       "\\item 7.91652395036966\n",
       "\\end{enumerate*}\n"
      ],
      "text/markdown": [
       "1. 4.32376451930241\n",
       "2. 6.88758493609249\n",
       "3. 5.46071370634901\n",
       "4. 3.8405611148076\n",
       "5. 3.56769330991642\n",
       "6. 5.44365946854331\n",
       "7. 7.88241547475827\n",
       "8. 5.44934421447854\n",
       "9. 4.32376451930241\n",
       "10. 5.10825945836456\n",
       "11. 5.631256084406\n",
       "12. 3.9258323038361\n",
       "13. 5.44934421447854\n",
       "14. 5.19921539332829\n",
       "15. 5.38112726325575\n",
       "16. 5.90412388929718\n",
       "17. 4.52273062703556\n",
       "18. 4.52273062703556\n",
       "19. 4.52273062703556\n",
       "20. 4.52273062703556\n",
       "21. 4.32376451930241\n",
       "22. 7.91652395036966\n",
       "\n",
       "\n"
      ],
      "text/plain": [
       " [1] 4.323765 6.887585 5.460714 3.840561 3.567693 5.443659 7.882415 5.449344\n",
       " [9] 4.323765 5.108259 5.631256 3.925832 5.449344 5.199215 5.381127 5.904124\n",
       "[17] 4.522731 4.522731 4.522731 4.522731 4.323765 7.916524"
      ]
     },
     "metadata": {},
     "output_type": "display_data"
    }
   ],
   "source": [
    "# Determine the three sigma rule for high outliers\n",
    "\n",
    "three_sigma_rule3 <- (DF1$weight_in_grams > 3 |\n",
    "                     DF1$weight_in_grams < -3)\n",
    "\n",
    "\n",
    "# calculate the outliers \n",
    "cat (\"There are\", sum(three_sigma_rule3), \"outliers \\n\\n\")\n",
    "\n",
    "\n",
    "cat(\"The scaled age values that are outliers: \\n\\n\")\n",
    "DF1$weight_in_grams[which(three_sigma_rule3)]"
   ]
  },
  {
   "cell_type": "code",
   "execution_count": 11,
   "id": "c7508012",
   "metadata": {},
   "outputs": [
    {
     "data": {
      "text/plain": [
       "       V1         \n",
       " Min.   :-0.3711  \n",
       " 1st Qu.:-0.3711  \n",
       " Median :-0.3339  \n",
       " Mean   : 0.0000  \n",
       " 3rd Qu.:-0.0640  \n",
       " Max.   :10.7882  "
      ]
     },
     "metadata": {},
     "output_type": "display_data"
    },
    {
     "name": "stdout",
     "output_type": "stream",
     "text": [
      "There are 20 outliers \n",
      "\n",
      "The scaled age values that are outliers: \n",
      "\n"
     ]
    },
    {
     "data": {
      "text/html": [
       "<ol class=list-inline>\n",
       "\t<li>4.05909579854792</li>\n",
       "\t<li>10.7882081856457</li>\n",
       "\t<li>4.46861301159398</li>\n",
       "\t<li>4.80367254954076</li>\n",
       "\t<li>5.77162232583145</li>\n",
       "\t<li>4.07771021732274</li>\n",
       "\t<li>3.18421811613134</li>\n",
       "\t<li>8.19149676655819</li>\n",
       "\t<li>6.26490442336421</li>\n",
       "\t<li>3.50066323530329</li>\n",
       "\t<li>10.6392928354471</li>\n",
       "\t<li>8.01465978819739</li>\n",
       "\t<li>4.72921487444148</li>\n",
       "\t<li>3.92879486712418</li>\n",
       "\t<li>4.94328069035192</li>\n",
       "\t<li>4.94328069035192</li>\n",
       "\t<li>7.11186047761857</li>\n",
       "\t<li>3.02599555654536</li>\n",
       "\t<li>3.27729021000544</li>\n",
       "\t<li>4.40346254588211</li>\n",
       "</ol>\n"
      ],
      "text/latex": [
       "\\begin{enumerate*}\n",
       "\\item 4.05909579854792\n",
       "\\item 10.7882081856457\n",
       "\\item 4.46861301159398\n",
       "\\item 4.80367254954076\n",
       "\\item 5.77162232583145\n",
       "\\item 4.07771021732274\n",
       "\\item 3.18421811613134\n",
       "\\item 8.19149676655819\n",
       "\\item 6.26490442336421\n",
       "\\item 3.50066323530329\n",
       "\\item 10.6392928354471\n",
       "\\item 8.01465978819739\n",
       "\\item 4.72921487444148\n",
       "\\item 3.92879486712418\n",
       "\\item 4.94328069035192\n",
       "\\item 4.94328069035192\n",
       "\\item 7.11186047761857\n",
       "\\item 3.02599555654536\n",
       "\\item 3.27729021000544\n",
       "\\item 4.40346254588211\n",
       "\\end{enumerate*}\n"
      ],
      "text/markdown": [
       "1. 4.05909579854792\n",
       "2. 10.7882081856457\n",
       "3. 4.46861301159398\n",
       "4. 4.80367254954076\n",
       "5. 5.77162232583145\n",
       "6. 4.07771021732274\n",
       "7. 3.18421811613134\n",
       "8. 8.19149676655819\n",
       "9. 6.26490442336421\n",
       "10. 3.50066323530329\n",
       "11. 10.6392928354471\n",
       "12. 8.01465978819739\n",
       "13. 4.72921487444148\n",
       "14. 3.92879486712418\n",
       "15. 4.94328069035192\n",
       "16. 4.94328069035192\n",
       "17. 7.11186047761857\n",
       "18. 3.02599555654536\n",
       "19. 3.27729021000544\n",
       "20. 4.40346254588211\n",
       "\n",
       "\n"
      ],
      "text/plain": [
       " [1]  4.059096 10.788208  4.468613  4.803673  5.771622  4.077710  3.184218\n",
       " [8]  8.191497  6.264904  3.500663 10.639293  8.014660  4.729215  3.928795\n",
       "[15]  4.943281  4.943281  7.111860  3.025996  3.277290  4.403463"
      ]
     },
     "metadata": {},
     "output_type": "display_data"
    }
   ],
   "source": [
    "# use default to calculate the z-score for numeric values\n",
    "DF1$saturated_fat <- scale(x = DF1$saturated_fat )\n",
    "\n",
    "summary(DF1$saturated_fat )\n",
    "\n",
    "# Determine the three sigma rule for  outliers\n",
    "\n",
    "three_sigma_rule4 <- (DF1$saturated_fat  > 3 |\n",
    "                     DF1$saturated_fat  < -3)\n",
    "\n",
    "\n",
    "# calculate the outliers \n",
    "cat (\"There are\", sum(three_sigma_rule4), \"outliers \\n\\n\")\n",
    "\n",
    "\n",
    "cat(\"The scaled age values that are outliers: \\n\\n\")\n",
    "DF1$saturated_fat [which(three_sigma_rule4)]"
   ]
  },
  {
   "cell_type": "code",
   "execution_count": 12,
   "id": "ec93c7e2",
   "metadata": {},
   "outputs": [
    {
     "data": {
      "text/plain": [
       "       V1         \n",
       " Min.   :-0.2714  \n",
       " 1st Qu.:-0.2714  \n",
       " Median :-0.2714  \n",
       " Mean   : 0.0000  \n",
       " 3rd Qu.:-0.1046  \n",
       " Max.   :16.8426  "
      ]
     },
     "metadata": {},
     "output_type": "display_data"
    },
    {
     "name": "stdout",
     "output_type": "stream",
     "text": [
      "There are 17 outliers \n",
      "\n",
      "The scaled age values that are outliers: \n",
      "\n"
     ]
    },
    {
     "data": {
      "text/html": [
       "<ol class=list-inline>\n",
       "\t<li>3.1464200795253</li>\n",
       "\t<li>4.35515037727471</li>\n",
       "\t<li>8.14806269090217</li>\n",
       "\t<li>5.06371641388643</li>\n",
       "\t<li>16.842584763679</li>\n",
       "\t<li>8.8983090826087</li>\n",
       "\t<li>4.47185537154017</li>\n",
       "\t<li>4.33014216421782</li>\n",
       "\t<li>4.71360143109005</li>\n",
       "\t<li>9.5902029771825</li>\n",
       "\t<li>4.5302078686729</li>\n",
       "\t<li>5.18875747917085</li>\n",
       "\t<li>6.87264382500106</li>\n",
       "\t<li>4.80529821229863</li>\n",
       "\t<li>3.69660076677675</li>\n",
       "\t<li>5.03037212981059</li>\n",
       "\t<li>5.588888888081</li>\n",
       "</ol>\n"
      ],
      "text/latex": [
       "\\begin{enumerate*}\n",
       "\\item 3.1464200795253\n",
       "\\item 4.35515037727471\n",
       "\\item 8.14806269090217\n",
       "\\item 5.06371641388643\n",
       "\\item 16.842584763679\n",
       "\\item 8.8983090826087\n",
       "\\item 4.47185537154017\n",
       "\\item 4.33014216421782\n",
       "\\item 4.71360143109005\n",
       "\\item 9.5902029771825\n",
       "\\item 4.5302078686729\n",
       "\\item 5.18875747917085\n",
       "\\item 6.87264382500106\n",
       "\\item 4.80529821229863\n",
       "\\item 3.69660076677675\n",
       "\\item 5.03037212981059\n",
       "\\item 5.588888888081\n",
       "\\end{enumerate*}\n"
      ],
      "text/markdown": [
       "1. 3.1464200795253\n",
       "2. 4.35515037727471\n",
       "3. 8.14806269090217\n",
       "4. 5.06371641388643\n",
       "5. 16.842584763679\n",
       "6. 8.8983090826087\n",
       "7. 4.47185537154017\n",
       "8. 4.33014216421782\n",
       "9. 4.71360143109005\n",
       "10. 9.5902029771825\n",
       "11. 4.5302078686729\n",
       "12. 5.18875747917085\n",
       "13. 6.87264382500106\n",
       "14. 4.80529821229863\n",
       "15. 3.69660076677675\n",
       "16. 5.03037212981059\n",
       "17. 5.588888888081\n",
       "\n",
       "\n"
      ],
      "text/plain": [
       " [1]  3.146420  4.355150  8.148063  5.063716 16.842585  8.898309  4.471855\n",
       " [8]  4.330142  4.713601  9.590203  4.530208  5.188757  6.872644  4.805298\n",
       "[15]  3.696601  5.030372  5.588889"
      ]
     },
     "metadata": {},
     "output_type": "display_data"
    }
   ],
   "source": [
    "# use default to calculate the z-score for numeric values\n",
    "DF1$cholesterol <- scale(x = DF1$cholesterol )\n",
    "\n",
    "summary(DF1$cholesterol )\n",
    "\n",
    "# Determine the three sigma rule for  outliers\n",
    "\n",
    "three_sigma_rule5 <- (DF1$cholesterol  > 3 |\n",
    "                     DF1$cholesterol  < -3)\n",
    "\n",
    "\n",
    "# calculate the outliers \n",
    "cat (\"There are\", sum(three_sigma_rule5), \"outliers \\n\\n\")\n",
    "\n",
    "\n",
    "cat(\"The scaled age values that are outliers: \\n\\n\")\n",
    "DF1$cholesterol [which(three_sigma_rule5)]"
   ]
  },
  {
   "cell_type": "code",
   "execution_count": null,
   "id": "c03d2b06",
   "metadata": {},
   "outputs": [],
   "source": []
  }
 ],
 "metadata": {
  "kernelspec": {
   "display_name": "R",
   "language": "R",
   "name": "ir"
  },
  "language_info": {
   "codemirror_mode": "r",
   "file_extension": ".r",
   "mimetype": "text/x-r-source",
   "name": "R",
   "pygments_lexer": "r",
   "version": "3.6.1"
  }
 },
 "nbformat": 4,
 "nbformat_minor": 5
}
